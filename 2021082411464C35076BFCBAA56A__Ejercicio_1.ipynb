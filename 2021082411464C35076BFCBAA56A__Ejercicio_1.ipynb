{
 "cells": [
  {
   "cell_type": "markdown",
   "id": "71f796ac",
   "metadata": {},
   "source": [
    "# CC3001 2021-2 Algoritmos y Estructuras de Datos\n",
    "\n",
    "## Ejercicio 1: \n",
    "\n",
    "Un polinomio se puede evaluar en tiempo lineal sin necesidad de una variable auxiliar si observamos que $P(x)$ se puede factorizar como:\n",
    "\n",
    "$$\n",
    "P(x) = a_0 +x(a_1+x(\\cdots+x(a_{n-1}+x(a_n))\\cdots))\n",
    "$$\n",
    "\n",
    "Por ejemplo,\n",
    "\n",
    "$$\n",
    "\\begin{align}\n",
    "P(x) &= 5+2x-3x^2+4x^3\\\\\n",
    " &=5+x(2+x(-3+x(4)))\n",
    "\\end{align}\n",
    "$$\n",
    "\n",
    "Programe un algoritmo iterativo que evalúe el polinomio utilizando esta idea. Comience desde el paréntesis más interno y vaya avanzando hacia la izquierda. Indique cuál es el invariante que utiliza. El algoritmo resultante se llama la **Regla de Horner**."
   ]
  },
  {
   "cell_type": "code",
   "execution_count": null,
   "id": "7ee6b5cf",
   "metadata": {},
   "outputs": [],
   "source": [
    "def evalp(a,x):\n",
    "    \"\"\"Evalúa en el punto x el polinomio cuyos coeficientes son a[0], a[1],...\n",
    "    utilizando la Regla de Horner\n",
    "    Retorna el valor calculado\n",
    "    \"\"\"\n",
    "    # Escriba aquí su algoritmo\n",
    "    \n",
    "    return P"
   ]
  },
  {
   "cell_type": "code",
   "execution_count": null,
   "id": "a62e9161",
   "metadata": {},
   "outputs": [],
   "source": [
    "print(evalp([5,2,-3,4],2))"
   ]
  }
 ],
 "metadata": {
  "kernelspec": {
   "display_name": "Python 3",
   "language": "python",
   "name": "python3"
  },
  "language_info": {
   "codemirror_mode": {
    "name": "ipython",
    "version": 3
   },
   "file_extension": ".py",
   "mimetype": "text/x-python",
   "name": "python",
   "nbconvert_exporter": "python",
   "pygments_lexer": "ipython3",
   "version": "3.8.8"
  }
 },
 "nbformat": 4,
 "nbformat_minor": 5
}
